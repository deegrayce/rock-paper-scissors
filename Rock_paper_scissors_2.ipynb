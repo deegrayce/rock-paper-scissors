{
  "nbformat": 4,
  "nbformat_minor": 0,
  "metadata": {
    "colab": {
      "provenance": []
    },
    "kernelspec": {
      "name": "python3",
      "display_name": "Python 3"
    },
    "language_info": {
      "name": "python"
    }
  },
  "cells": [
    {
      "cell_type": "code",
      "execution_count": 7,
      "metadata": {
        "colab": {
          "base_uri": "https://localhost:8080/"
        },
        "id": "TYh8PGx0H2Hl",
        "outputId": "32189a17-0179-4ce8-91a1-4d185b5a9548"
      },
      "outputs": [
        {
          "output_type": "stream",
          "name": "stdout",
          "text": [
            "Welcome to the epic game of rock, paper, scissors\n",
            " Dare to play?\n",
            " select rock, paper or scissors to win!\n",
            "Player 1: rock\n",
            "Player 2: scissors\n",
            "player 1 wins!\n"
          ]
        }
      ],
      "source": [
        "#creating a welcome message\n",
        "def message():\n",
        "  print(\"Welcome to the epic game of rock, paper, scissors\")\n",
        "  print(\" Dare to play?\")\n",
        "  print(\" select rock, paper or scissors to win!\")\n",
        "\n",
        "#creating the game function, it takes two inputs for player 1 and player 2\n",
        "def user_input():\n",
        "  #takes player 1 input\n",
        "  player1_input = input(\"Player 1: \")\n",
        "  #takes player 2 input\n",
        "  player2_input = input(\"Player 2: \")\n",
        "  # conditional statements for the game\n",
        "  if player1_input == player2_input:\n",
        "    print(\"It is a tie! play again?\" )\n",
        "  elif player1_input == \"rock\" and player2_input == \"scissors\":\n",
        "    print(\"player 1 wins!\")\n",
        "  elif player1_input == \"scissors\" and player2_input == \"paper\":\n",
        "    print(\"player 1 wins!\")\n",
        "  elif player1_input == \"paper\" and player2_input == \"rock\":\n",
        "    print(\"player 1 wins!\")\n",
        "  elif player1_input == \"scissors\" and player2_input == \"rock\":\n",
        "    print(\"player 2 wins!\")\n",
        "  elif player1_input == \"paper\" and player2_input == \"scissors\":\n",
        "    print(\"player 2 wins!\")\n",
        "  elif player1_input == \"rock\" and player2_input == \"paper\":\n",
        "    print(\"player 2 wins!\")\n",
        "#calling the welcome messsage and game\n",
        "message()\n",
        "user_input()\n",
        ""
      ]
    },
    {
      "cell_type": "code",
      "source": [
        "import random"
      ],
      "metadata": {
        "id": "xKsKOE__SUqP"
      },
      "execution_count": 3,
      "outputs": []
    },
    {
      "cell_type": "code",
      "source": [
        "def message():\n",
        "  print(\"Welcome to the epic game of rock, paper, scissors\")\n",
        "  print(\" Dare to play?\")\n",
        "  print(\" select rock, paper or scissors to win!\")\n",
        "\n",
        "def user_input():\n",
        "  player1_input = input(\"enter your choice: \")\n",
        "  computer_actions = [\"rock\", \"paper\", \"scissors\"]\n",
        "  player2_input = random.choice(computer_actions)\n",
        "\n",
        "  print(f\"Player 1 chose {player1_input}\")\n",
        "  print(f\"Player 2 chose {player2_input}\")\n",
        "\n",
        "  if player1_input == player2_input:\n",
        "    print(\"It is a tie! play again?\" )\n",
        "  elif player1_input == \"rock\" and player2_input == \"scissors\":\n",
        "    print(\"player 1 wins!\")\n",
        "  elif player1_input == \"scissors\" and player2_input == \"paper\":\n",
        "    print(\"player 1 wins!\")\n",
        "  elif player1_input == \"paper\" and player2_input == \"rock\":\n",
        "    print(\"player 1 wins!\")\n",
        "  elif player1_input == \"scissors\" and player2_input == \"rock\":\n",
        "    print(\"player 2 wins!\")\n",
        "  elif player1_input == \"paper\" and player2_input == \"scissors\":\n",
        "    print(\"player 2 wins!\")\n",
        "  elif player1_input == \"rock\" and player2_input == \"paper\":\n",
        "    print(\"player 2 wins!\")\n",
        "  else:\n",
        "    print(\"invalid input, select rock, paper or scissors\")\n",
        "\n",
        "message()\n",
        "user_input()"
      ],
      "metadata": {
        "colab": {
          "base_uri": "https://localhost:8080/"
        },
        "id": "dTV51CcjSqMk",
        "outputId": "15c8d8ec-6561-44be-a476-5a2f84c240f8"
      },
      "execution_count": 8,
      "outputs": [
        {
          "output_type": "stream",
          "name": "stdout",
          "text": [
            "Welcome to the epic game of rock, paper, scissors\n",
            " Dare to play?\n",
            " select rock, paper or scissors to win!\n",
            "enter your choice: paper\n",
            "Player 1 chose paper\n",
            "Player 2 chose rock\n",
            "player 1 wins!\n"
          ]
        }
      ]
    },
    {
      "cell_type": "code",
      "source": [],
      "metadata": {
        "id": "HE0Rs7kSSQRA"
      },
      "execution_count": null,
      "outputs": []
    },
    {
      "cell_type": "code",
      "source": [
        "def get_user_choice():\n",
        "  user_input =input(\"enter your choice , rock, paper, scissors: \").lower()\n",
        "  while user_input not in [\"rock\", \"paper\", \"scissors\"]:\n",
        "    print(\"Invalid input, kindly select paper, rock or scissors\")\n",
        "    user_input =input(\"enter your choice , rock, paper, scissors: \").lower()\n",
        "  return user_input"
      ],
      "metadata": {
        "id": "rNNYFno5KRCv"
      },
      "execution_count": 1,
      "outputs": []
    },
    {
      "cell_type": "code",
      "source": [
        "import random"
      ],
      "metadata": {
        "id": "A2MAM_T1RfYG"
      },
      "execution_count": 4,
      "outputs": []
    },
    {
      "cell_type": "code",
      "source": [
        "def get_computer_choice():\n",
        "  computer_actions = [\"rock\", \"paper\", \"scissors\"]\n",
        "  computer_choice = random.choice(computer_actions)\n",
        "  return computer_choice\n",
        "get_computer_choice()"
      ],
      "metadata": {
        "colab": {
          "base_uri": "https://localhost:8080/",
          "height": 35
        },
        "id": "_giqAxqlQQ08",
        "outputId": "1263313c-baa9-469d-ec1b-379b7fc3d25f"
      },
      "execution_count": 5,
      "outputs": [
        {
          "output_type": "execute_result",
          "data": {
            "text/plain": [
              "'scissors'"
            ],
            "application/vnd.google.colaboratory.intrinsic+json": {
              "type": "string"
            }
          },
          "metadata": {},
          "execution_count": 5
        }
      ]
    },
    {
      "cell_type": "code",
      "source": [
        "def determine_winner(user_choice, computer_choice):\n",
        "  if user_choice == computer_choice:\n",
        "    print(\"it is a tie!\")\n",
        "  elif(\n",
        "      (user_choice== \"rock\" and computer_choice == \"scissors\") or\n",
        "      (user_choice == \"scissors\" and computer_choice == \"paper\") or\n",
        "      (user_choice == \"paper\" and computer_choice == \"rock\")):\n",
        "      return \"You win!\"\n",
        "\n",
        "  else:\n",
        "      return \"You lose!\"\n"
      ],
      "metadata": {
        "id": "Cyag9O4EY9F4"
      },
      "execution_count": null,
      "outputs": []
    },
    {
      "cell_type": "code",
      "source": [
        "def rock_paper_scissors():\n",
        "  print(\"Let us play!\")\n",
        "get_user_choice()\n",
        "get_computer_choice()\n",
        "determine_winner()\n"
      ],
      "metadata": {
        "colab": {
          "base_uri": "https://localhost:8080/",
          "height": 245
        },
        "id": "6JAcTmhsZinH",
        "outputId": "8317b80f-afc9-4068-d729-693c9b5d77b9"
      },
      "execution_count": 11,
      "outputs": [
        {
          "output_type": "error",
          "ename": "NameError",
          "evalue": "ignored",
          "traceback": [
            "\u001b[0;31m---------------------------------------------------------------------------\u001b[0m",
            "\u001b[0;31mNameError\u001b[0m                                 Traceback (most recent call last)",
            "\u001b[0;32m<ipython-input-11-05fc4e1447cb>\u001b[0m in \u001b[0;36m<cell line: 3>\u001b[0;34m()\u001b[0m\n\u001b[1;32m      1\u001b[0m \u001b[0;32mdef\u001b[0m \u001b[0mrock_paper_scissors\u001b[0m\u001b[0;34m(\u001b[0m\u001b[0;34m)\u001b[0m\u001b[0;34m:\u001b[0m\u001b[0;34m\u001b[0m\u001b[0;34m\u001b[0m\u001b[0m\n\u001b[1;32m      2\u001b[0m   \u001b[0mprint\u001b[0m\u001b[0;34m(\u001b[0m\u001b[0;34m\"Let us play!\"\u001b[0m\u001b[0;34m)\u001b[0m\u001b[0;34m\u001b[0m\u001b[0;34m\u001b[0m\u001b[0m\n\u001b[0;32m----> 3\u001b[0;31m \u001b[0mget_user_choice\u001b[0m\u001b[0;34m(\u001b[0m\u001b[0;34m)\u001b[0m\u001b[0;34m\u001b[0m\u001b[0;34m\u001b[0m\u001b[0m\n\u001b[0m\u001b[1;32m      4\u001b[0m \u001b[0mget_computer_choice\u001b[0m\u001b[0;34m(\u001b[0m\u001b[0;34m)\u001b[0m\u001b[0;34m\u001b[0m\u001b[0;34m\u001b[0m\u001b[0m\n\u001b[1;32m      5\u001b[0m \u001b[0mdetermine_winner\u001b[0m\u001b[0;34m(\u001b[0m\u001b[0;34m)\u001b[0m\u001b[0;34m\u001b[0m\u001b[0;34m\u001b[0m\u001b[0m\n",
            "\u001b[0;31mNameError\u001b[0m: name 'get_user_choice' is not defined"
          ]
        }
      ]
    }
  ]
}